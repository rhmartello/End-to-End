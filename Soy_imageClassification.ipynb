{
  "nbformat": 4,
  "nbformat_minor": 0,
  "metadata": {
    "kernelspec": {
      "display_name": "Python 3",
      "language": "python",
      "name": "python3"
    },
    "language_info": {
      "codemirror_mode": {
        "name": "ipython",
        "version": 3
      },
      "file_extension": ".py",
      "mimetype": "text/x-python",
      "name": "python",
      "nbconvert_exporter": "python",
      "pygments_lexer": "ipython3",
      "version": "3.7.7"
    },
    "colab": {
      "name": "Soy_imageClassification.ipynb",
      "provenance": [],
      "collapsed_sections": []
    },
    "accelerator": "GPU"
  },
  "cells": [
    {
      "cell_type": "code",
      "metadata": {
        "id": "KvgkvCl6Mda3",
        "colab": {
          "base_uri": "https://localhost:8080/"
        },
        "outputId": "e45acc68-17a2-490f-c9db-2d15dc6d5a34"
      },
      "source": [
        "from google.colab import drive\n",
        "drive.mount('/content/drive')"
      ],
      "execution_count": 1,
      "outputs": [
        {
          "output_type": "stream",
          "text": [
            "Mounted at /content/drive\n"
          ],
          "name": "stdout"
        }
      ]
    },
    {
      "cell_type": "code",
      "metadata": {
        "id": "jZ2QtZ9jMRDn"
      },
      "source": [
        "import numpy as np\n",
        "import os\n",
        "import PIL\n",
        "import PIL.Image\n",
        "import tensorflow as tf"
      ],
      "execution_count": 2,
      "outputs": []
    },
    {
      "cell_type": "code",
      "metadata": {
        "id": "u3jEAWY_MRDw",
        "colab": {
          "base_uri": "https://localhost:8080/"
        },
        "outputId": "99a7f834-ca55-47f6-8a13-06084211fd26"
      },
      "source": [
        "print(tf.__version__)"
      ],
      "execution_count": 3,
      "outputs": [
        {
          "output_type": "stream",
          "text": [
            "2.5.0\n"
          ],
          "name": "stdout"
        }
      ]
    },
    {
      "cell_type": "code",
      "metadata": {
        "id": "QW5lSpnZyixR"
      },
      "source": [
        "import pathlib\n",
        "\n",
        "data_dir = pathlib.Path('drive/My Drive/Soy/Data')"
      ],
      "execution_count": 4,
      "outputs": []
    },
    {
      "cell_type": "code",
      "metadata": {
        "id": "XeLeXrlUz--H",
        "colab": {
          "base_uri": "https://localhost:8080/"
        },
        "outputId": "d24abc19-c795-4fe9-c732-6515205e2fcd"
      },
      "source": [
        "image_count = len(list(data_dir.glob('*/*.jpg')))\n",
        "print(image_count)"
      ],
      "execution_count": 5,
      "outputs": [
        {
          "output_type": "stream",
          "text": [
            "5659\n"
          ],
          "name": "stdout"
        }
      ]
    },
    {
      "cell_type": "code",
      "metadata": {
        "id": "p7WxQGaAMRD3"
      },
      "source": [
        "list_ds = tf.data.Dataset.list_files(str(data_dir/'*/*'), shuffle=False)\n",
        "list_ds = list_ds.shuffle(image_count, reshuffle_each_iteration=False)"
      ],
      "execution_count": 6,
      "outputs": []
    },
    {
      "cell_type": "code",
      "metadata": {
        "id": "aNMsplCbyR4C",
        "colab": {
          "base_uri": "https://localhost:8080/"
        },
        "outputId": "facf164f-7ab4-4e3c-cb69-4d2ea40163eb"
      },
      "source": [
        "for f in list_ds.take(5):\n",
        "  print(f.numpy())"
      ],
      "execution_count": 7,
      "outputs": [
        {
          "output_type": "stream",
          "text": [
            "b'drive/My Drive/Soy/Data/Copper_phytotoxicity/fito289.jpg'\n",
            "b'drive/My Drive/Soy/Data/Bacterial_blight/creb193.jpg'\n",
            "b'drive/My Drive/Soy/Data/Copper_phytotoxicity/fito307.jpg'\n",
            "b'drive/My Drive/Soy/Data/Brown_spot/sept621.jpg'\n",
            "b'drive/My Drive/Soy/Data/Southern_Blight/malv879.jpg'\n"
          ],
          "name": "stdout"
        }
      ]
    },
    {
      "cell_type": "code",
      "metadata": {
        "id": "nDncb7MWyR9t",
        "colab": {
          "base_uri": "https://localhost:8080/"
        },
        "outputId": "8e8ab0e6-fdae-4870-8911-9f2235aa82d0"
      },
      "source": [
        "class_names = np.array(sorted([item.name for item in data_dir.glob('*') if item.name != \"LICENSE.txt\"]))\n",
        "print(class_names)"
      ],
      "execution_count": 8,
      "outputs": [
        {
          "output_type": "stream",
          "text": [
            "['Bacterial_blight' 'Brown_spot' 'Copper_phytotoxicity' 'Downy_mildew'\n",
            " 'Healthy' 'Mosaic_virus' 'Powdery_mildew' 'Rust' 'Southern_Blight']\n"
          ],
          "name": "stdout"
        }
      ]
    },
    {
      "cell_type": "code",
      "metadata": {
        "id": "x1a4xLuNyR7Z"
      },
      "source": [
        "val_size = int(image_count * 0.2)\n",
        "train_ds = list_ds.skip(val_size)\n",
        "val_ds = list_ds.take(val_size)"
      ],
      "execution_count": 9,
      "outputs": []
    },
    {
      "cell_type": "code",
      "metadata": {
        "id": "KDT76fcOyYKj",
        "colab": {
          "base_uri": "https://localhost:8080/"
        },
        "outputId": "6b56b41a-7c92-4d50-a67c-b94f2cfc0795"
      },
      "source": [
        "print(tf.data.experimental.cardinality(train_ds).numpy())\n",
        "print(tf.data.experimental.cardinality(val_ds).numpy())"
      ],
      "execution_count": 10,
      "outputs": [
        {
          "output_type": "stream",
          "text": [
            "4528\n",
            "1131\n"
          ],
          "name": "stdout"
        }
      ]
    },
    {
      "cell_type": "code",
      "metadata": {
        "id": "Ne6SDtDd2V9_"
      },
      "source": [
        ""
      ],
      "execution_count": 10,
      "outputs": []
    },
    {
      "cell_type": "code",
      "metadata": {
        "id": "kp-ekkCkyYH_"
      },
      "source": [
        "def get_label(file_path):\n",
        "  # convert the path to a list of path components\n",
        "  parts = tf.strings.split(file_path, os.path.sep)\n",
        "  # The second to last is the class-directory\n",
        "  one_hot = parts[-2] == class_names\n",
        "  # Integer encode the label\n",
        "  return tf.argmax(one_hot)"
      ],
      "execution_count": 11,
      "outputs": []
    },
    {
      "cell_type": "code",
      "metadata": {
        "id": "HGizgDjcyYFq"
      },
      "source": [
        "def decode_img(img):\n",
        "  # convert the compressed string to a 3D uint8 tensor\n",
        "  img = tf.image.decode_jpeg(img, channels=3)\n",
        "  # resize the image to the desired size\n",
        "  return tf.image.resize(img, [img_height, img_width])"
      ],
      "execution_count": 12,
      "outputs": []
    },
    {
      "cell_type": "code",
      "metadata": {
        "id": "smHnaul2MRD-"
      },
      "source": [
        "def process_path(file_path):\n",
        "  label = get_label(file_path)\n",
        "  # load the raw data from the file as a string\n",
        "  img = tf.io.read_file(file_path)\n",
        "  img = decode_img(img)\n",
        "  return img, label"
      ],
      "execution_count": 13,
      "outputs": []
    },
    {
      "cell_type": "code",
      "metadata": {
        "id": "tsJJC61I0Isq"
      },
      "source": [
        "AUTOTUNE = tf.data.experimental.AUTOTUNE\n",
        "\n",
        "train_ds = train_ds.cache().prefetch(buffer_size=AUTOTUNE)\n",
        "val_ds = val_ds.cache().prefetch(buffer_size=AUTOTUNE)\n",
        "\n",
        "batch_size = 8\n",
        "img_height = 256    \n",
        "img_width = 256"
      ],
      "execution_count": 14,
      "outputs": []
    },
    {
      "cell_type": "markdown",
      "metadata": {
        "id": "BpMJrfCQ9UHN"
      },
      "source": [
        ""
      ]
    },
    {
      "cell_type": "code",
      "metadata": {
        "id": "KEKRyhi325nE"
      },
      "source": [
        ""
      ],
      "execution_count": 14,
      "outputs": []
    },
    {
      "cell_type": "code",
      "metadata": {
        "id": "t9hCSoLYMRED"
      },
      "source": [
        "# Set `num_parallel_calls` so multiple images are loaded/processed in parallel.\n",
        "train_ds = train_ds.map(process_path, num_parallel_calls=AUTOTUNE)\n",
        "val_ds = val_ds.map(process_path, num_parallel_calls=AUTOTUNE)"
      ],
      "execution_count": 15,
      "outputs": []
    },
    {
      "cell_type": "code",
      "metadata": {
        "id": "fdWhQBC53F8z"
      },
      "source": [
        ""
      ],
      "execution_count": 15,
      "outputs": []
    },
    {
      "cell_type": "code",
      "metadata": {
        "id": "KAQhl4jCMREH",
        "colab": {
          "base_uri": "https://localhost:8080/"
        },
        "outputId": "7a0b750f-8248-43f7-f3f3-35345fc64ffe"
      },
      "source": [
        "for image, label in train_ds.take(1):\n",
        "  print(\"Image shape: \", image.numpy().shape)\n",
        "  print(\"Label: \", label.numpy())"
      ],
      "execution_count": 16,
      "outputs": [
        {
          "output_type": "stream",
          "text": [
            "Image shape:  (256, 256, 3)\n",
            "Label:  7\n"
          ],
          "name": "stdout"
        }
      ]
    },
    {
      "cell_type": "code",
      "metadata": {
        "id": "IwvJZOljMREO"
      },
      "source": [
        "def configure_for_performance(ds):\n",
        "  ds = ds.cache()\n",
        "  ds = ds.shuffle(buffer_size=1000)\n",
        "  ds = ds.batch(batch_size)\n",
        "  ds = ds.prefetch(buffer_size=AUTOTUNE)\n",
        "  return ds\n",
        "\n",
        "train_ds = configure_for_performance(train_ds)\n",
        "val_ds = configure_for_performance(val_ds)\n",
        "\n"
      ],
      "execution_count": 17,
      "outputs": []
    },
    {
      "cell_type": "code",
      "metadata": {
        "id": "KLgT1HKP3Qwe"
      },
      "source": [
        ""
      ],
      "execution_count": 17,
      "outputs": []
    },
    {
      "cell_type": "code",
      "metadata": {
        "id": "Z2IjRCAhMRET"
      },
      "source": [
        ""
      ],
      "execution_count": 17,
      "outputs": []
    },
    {
      "cell_type": "code",
      "metadata": {
        "id": "ZQv2kpqddfSd"
      },
      "source": [
        "from tensorflow.keras import layers\n",
        "\n",
        "normalization_layer = tf.keras.layers.experimental.preprocessing.Rescaling(1./255)"
      ],
      "execution_count": 18,
      "outputs": []
    },
    {
      "cell_type": "code",
      "metadata": {
        "id": "ML2Rb6Zzdfed",
        "colab": {
          "base_uri": "https://localhost:8080/"
        },
        "outputId": "4c969663-583a-4cfb-ed20-a09af046608a"
      },
      "source": [
        "normalized_ds = train_ds.map(lambda x, y: (normalization_layer(x), y))\n",
        "image_batch, labels_batch = next(iter(normalized_ds))\n",
        "first_image = image_batch[0]\n",
        "# Notice the pixels values are now in `[0,1]`.\n",
        "print(np.min(first_image), np.max(first_image)) \n"
      ],
      "execution_count": 19,
      "outputs": [
        {
          "output_type": "stream",
          "text": [
            "0.0 1.0\n"
          ],
          "name": "stdout"
        }
      ]
    },
    {
      "cell_type": "markdown",
      "metadata": {
        "id": "sCqAgLWnO2c-"
      },
      "source": [
        "# MODELO VGG19"
      ]
    },
    {
      "cell_type": "code",
      "metadata": {
        "id": "B1cyBQzZgEZt"
      },
      "source": [
        "from tensorflow.keras.models import Model\n",
        "from tensorflow.keras.layers import Dense\n",
        "from tensorflow.keras.layers import Flatten"
      ],
      "execution_count": 20,
      "outputs": []
    },
    {
      "cell_type": "code",
      "metadata": {
        "id": "S-UlhPXz3is6",
        "colab": {
          "base_uri": "https://localhost:8080/"
        },
        "outputId": "0d2e4c66-6fac-4c2e-a943-171f22e2e89a"
      },
      "source": [
        "# load model and specify a new input shape for images and avg pooling output\n",
        "new_input = tf.keras.layers.Input(shape=(256, 256, 3))\n",
        "\n",
        "\n",
        "# load model without classifier layers\n",
        "model2 = tf.keras.applications.VGG19(include_top=False, input_tensor=new_input, weights='imagenet')\n",
        "model2.trainable = True\n",
        "# add new classifier layers\n",
        "flat1 = Flatten()(model2.layers[-1].output)\n",
        "class1 = Dense(128, activation='relu')(flat1)\n",
        "output = Dense(9, activation='softmax')(class1)\n",
        "# define new model\n",
        "model2 = Model(inputs=model2.inputs, outputs=output)\n",
        "# summarize\n",
        "model2.summary()"
      ],
      "execution_count": 21,
      "outputs": [
        {
          "output_type": "stream",
          "text": [
            "Downloading data from https://storage.googleapis.com/tensorflow/keras-applications/vgg19/vgg19_weights_tf_dim_ordering_tf_kernels_notop.h5\n",
            "80142336/80134624 [==============================] - 1s 0us/step\n",
            "Model: \"model\"\n",
            "_________________________________________________________________\n",
            "Layer (type)                 Output Shape              Param #   \n",
            "=================================================================\n",
            "input_1 (InputLayer)         [(None, 256, 256, 3)]     0         \n",
            "_________________________________________________________________\n",
            "block1_conv1 (Conv2D)        (None, 256, 256, 64)      1792      \n",
            "_________________________________________________________________\n",
            "block1_conv2 (Conv2D)        (None, 256, 256, 64)      36928     \n",
            "_________________________________________________________________\n",
            "block1_pool (MaxPooling2D)   (None, 128, 128, 64)      0         \n",
            "_________________________________________________________________\n",
            "block2_conv1 (Conv2D)        (None, 128, 128, 128)     73856     \n",
            "_________________________________________________________________\n",
            "block2_conv2 (Conv2D)        (None, 128, 128, 128)     147584    \n",
            "_________________________________________________________________\n",
            "block2_pool (MaxPooling2D)   (None, 64, 64, 128)       0         \n",
            "_________________________________________________________________\n",
            "block3_conv1 (Conv2D)        (None, 64, 64, 256)       295168    \n",
            "_________________________________________________________________\n",
            "block3_conv2 (Conv2D)        (None, 64, 64, 256)       590080    \n",
            "_________________________________________________________________\n",
            "block3_conv3 (Conv2D)        (None, 64, 64, 256)       590080    \n",
            "_________________________________________________________________\n",
            "block3_conv4 (Conv2D)        (None, 64, 64, 256)       590080    \n",
            "_________________________________________________________________\n",
            "block3_pool (MaxPooling2D)   (None, 32, 32, 256)       0         \n",
            "_________________________________________________________________\n",
            "block4_conv1 (Conv2D)        (None, 32, 32, 512)       1180160   \n",
            "_________________________________________________________________\n",
            "block4_conv2 (Conv2D)        (None, 32, 32, 512)       2359808   \n",
            "_________________________________________________________________\n",
            "block4_conv3 (Conv2D)        (None, 32, 32, 512)       2359808   \n",
            "_________________________________________________________________\n",
            "block4_conv4 (Conv2D)        (None, 32, 32, 512)       2359808   \n",
            "_________________________________________________________________\n",
            "block4_pool (MaxPooling2D)   (None, 16, 16, 512)       0         \n",
            "_________________________________________________________________\n",
            "block5_conv1 (Conv2D)        (None, 16, 16, 512)       2359808   \n",
            "_________________________________________________________________\n",
            "block5_conv2 (Conv2D)        (None, 16, 16, 512)       2359808   \n",
            "_________________________________________________________________\n",
            "block5_conv3 (Conv2D)        (None, 16, 16, 512)       2359808   \n",
            "_________________________________________________________________\n",
            "block5_conv4 (Conv2D)        (None, 16, 16, 512)       2359808   \n",
            "_________________________________________________________________\n",
            "block5_pool (MaxPooling2D)   (None, 8, 8, 512)         0         \n",
            "_________________________________________________________________\n",
            "flatten (Flatten)            (None, 32768)             0         \n",
            "_________________________________________________________________\n",
            "dense (Dense)                (None, 128)               4194432   \n",
            "_________________________________________________________________\n",
            "dense_1 (Dense)              (None, 9)                 1161      \n",
            "=================================================================\n",
            "Total params: 24,219,977\n",
            "Trainable params: 24,219,977\n",
            "Non-trainable params: 0\n",
            "_________________________________________________________________\n"
          ],
          "name": "stdout"
        }
      ]
    },
    {
      "cell_type": "code",
      "metadata": {
        "id": "6Q9Y9xxlgEXy",
        "colab": {
          "base_uri": "https://localhost:8080/"
        },
        "outputId": "9598a105-32cc-42a9-b1ec-1d530e5208c3"
      },
      "source": [
        "base_learning_rate = 0.001\n",
        "model2.compile(optimizer=tf.keras.optimizers.SGD(lr=base_learning_rate),\n",
        "              loss=tf.keras.losses.SparseCategoricalCrossentropy(from_logits=True),\n",
        "              metrics=['accuracy'])"
      ],
      "execution_count": 22,
      "outputs": [
        {
          "output_type": "stream",
          "text": [
            "/usr/local/lib/python3.7/dist-packages/tensorflow/python/keras/optimizer_v2/optimizer_v2.py:375: UserWarning: The `lr` argument is deprecated, use `learning_rate` instead.\n",
            "  \"The `lr` argument is deprecated, use `learning_rate` instead.\")\n"
          ],
          "name": "stderr"
        }
      ]
    },
    {
      "cell_type": "code",
      "metadata": {
        "id": "uHnAI1u1gEVK",
        "colab": {
          "base_uri": "https://localhost:8080/"
        },
        "outputId": "d33ae010-7412-4ca4-8af2-5cdab3c54b4c"
      },
      "source": [
        "history2 = model2.fit(train_ds,\n",
        "                    validation_data=(val_ds),  \n",
        "                    epochs=50\n",
        ")"
      ],
      "execution_count": null,
      "outputs": [
        {
          "output_type": "stream",
          "text": [
            "Epoch 1/50\n"
          ],
          "name": "stdout"
        },
        {
          "output_type": "stream",
          "text": [
            "/usr/local/lib/python3.7/dist-packages/tensorflow/python/keras/backend.py:4930: UserWarning: \"`sparse_categorical_crossentropy` received `from_logits=True`, but the `output` argument was produced by a sigmoid or softmax activation and thus does not represent logits. Was this intended?\"\n",
            "  '\"`sparse_categorical_crossentropy` received `from_logits=True`, but '\n"
          ],
          "name": "stderr"
        },
        {
          "output_type": "stream",
          "text": [
            "566/566 [==============================] - 536s 884ms/step - loss: 1.5524 - accuracy: 0.5053 - val_loss: 0.8894 - val_accuracy: 0.6649\n",
            "Epoch 2/50\n",
            "566/566 [==============================] - 121s 213ms/step - loss: 0.6536 - accuracy: 0.7652 - val_loss: 0.5678 - val_accuracy: 0.7913\n",
            "Epoch 3/50\n",
            "566/566 [==============================] - 126s 223ms/step - loss: 0.4288 - accuracy: 0.8421 - val_loss: 0.5475 - val_accuracy: 0.8134\n",
            "Epoch 4/50\n",
            "566/566 [==============================] - 126s 223ms/step - loss: 0.3212 - accuracy: 0.8878 - val_loss: 0.4315 - val_accuracy: 0.8603\n",
            "Epoch 5/50\n",
            "566/566 [==============================] - 127s 224ms/step - loss: 0.2202 - accuracy: 0.9189 - val_loss: 0.4248 - val_accuracy: 0.8576\n",
            "Epoch 6/50\n",
            "566/566 [==============================] - 127s 224ms/step - loss: 0.1828 - accuracy: 0.9379 - val_loss: 0.4263 - val_accuracy: 0.8727\n",
            "Epoch 7/50\n",
            "566/566 [==============================] - 127s 224ms/step - loss: 0.1389 - accuracy: 0.9532 - val_loss: 0.4104 - val_accuracy: 0.8877\n",
            "Epoch 8/50\n",
            "566/566 [==============================] - 127s 224ms/step - loss: 0.1232 - accuracy: 0.9598 - val_loss: 0.4285 - val_accuracy: 0.8815\n",
            "Epoch 9/50\n",
            "566/566 [==============================] - 126s 223ms/step - loss: 0.0692 - accuracy: 0.9757 - val_loss: 0.5678 - val_accuracy: 0.8541\n",
            "Epoch 10/50\n",
            "566/566 [==============================] - 127s 224ms/step - loss: 0.0858 - accuracy: 0.9728 - val_loss: 0.4198 - val_accuracy: 0.8966\n",
            "Epoch 11/50\n",
            "566/566 [==============================] - 127s 224ms/step - loss: 0.0355 - accuracy: 0.9879 - val_loss: 0.4846 - val_accuracy: 0.8824\n",
            "Epoch 12/50\n",
            "566/566 [==============================] - 127s 224ms/step - loss: 0.0171 - accuracy: 0.9943 - val_loss: 0.5549 - val_accuracy: 0.8912\n",
            "Epoch 13/50\n",
            "566/566 [==============================] - 127s 225ms/step - loss: 0.0338 - accuracy: 0.9916 - val_loss: 0.4872 - val_accuracy: 0.8948\n",
            "Epoch 14/50\n",
            "566/566 [==============================] - 127s 224ms/step - loss: 0.0310 - accuracy: 0.9927 - val_loss: 0.4927 - val_accuracy: 0.8992\n",
            "Epoch 15/50\n",
            "547/566 [===========================>..] - ETA: 3s - loss: 0.0042 - accuracy: 0.9993"
          ],
          "name": "stdout"
        }
      ]
    },
    {
      "cell_type": "markdown",
      "metadata": {
        "id": "DEjL7omx6Amt"
      },
      "source": [
        "# Modelo ResNet 50"
      ]
    },
    {
      "cell_type": "code",
      "metadata": {
        "id": "teca2folrjto"
      },
      "source": [
        "import tensorflow as tf"
      ],
      "execution_count": null,
      "outputs": []
    },
    {
      "cell_type": "code",
      "metadata": {
        "id": "szwgGqJJgERh"
      },
      "source": [
        "# load model and specify a new input shape for images and avg pooling output\n",
        "new_input = tf.keras.layers.Input(shape=(256, 256, 3))\n",
        "\n",
        "# load model without classifier layers\n",
        "model1 = tf.keras.applications.ResNet50(include_top=False, input_tensor=new_input, weights='imagenet')\n",
        "model1.trainable = True\n",
        "# add new classifier layers\n",
        "flat1 = Flatten()(model1.layers[-1].output)\n",
        "class1 = Dense(128, activation='relu')(flat1)\n",
        "output = Dense(9, activation='softmax')(class1)\n",
        "# define new model\n",
        "model1 = Model(inputs=model1.inputs, outputs=output)\n",
        "# summarize\n",
        "model1.summary()"
      ],
      "execution_count": null,
      "outputs": []
    },
    {
      "cell_type": "code",
      "metadata": {
        "id": "Pd0Mcm2KhWmk"
      },
      "source": [
        "base_learning_rate = 0.001\n",
        "model1.compile(optimizer=tf.keras.optimizers.SGD(lr=base_learning_rate),\n",
        "              loss=tf.keras.losses.SparseCategoricalCrossentropy(from_logits=True),\n",
        "              metrics=['accuracy'])"
      ],
      "execution_count": null,
      "outputs": []
    },
    {
      "cell_type": "code",
      "metadata": {
        "id": "5GPSrGPn6OED"
      },
      "source": [
        "history = model1.fit(train_ds,\n",
        "                    validation_data=(val_ds),  \n",
        "                    epochs=50\n",
        ")"
      ],
      "execution_count": null,
      "outputs": []
    },
    {
      "cell_type": "markdown",
      "metadata": {
        "id": "KPR0jke26Pj4"
      },
      "source": [
        "# DenseNet201"
      ]
    },
    {
      "cell_type": "code",
      "metadata": {
        "id": "ZLJQrNEY6VX8"
      },
      "source": [
        "# load model and specify a new input shape for images and avg pooling output\n",
        "new_input = tf.keras.layers.Input(shape=(256, 256, 3))\n",
        "\n",
        "# load model without classifier layers\n",
        "model3 = tf.keras.applications.DenseNet201(include_top=False, input_tensor=new_input, weights='imagenet')\n",
        "model3.trainable = True\n",
        "# add new classifier layers\n",
        "flat1 = Flatten()(model3.layers[-1].output)\n",
        "class1 = Dense(128, activation='relu')(flat1)\n",
        "output = Dense(9, activation='softmax')(class1)\n",
        "# define new model\n",
        "model3 = Model(inputs=model3.inputs, outputs=output)\n",
        "# summarize\n",
        "model3.summary()"
      ],
      "execution_count": null,
      "outputs": []
    },
    {
      "cell_type": "code",
      "metadata": {
        "id": "xTOzmRoQ6U1H"
      },
      "source": [
        "base_learning_rate = 0.001\n",
        "model3.compile(optimizer=tf.keras.optimizers.SGD(lr=base_learning_rate),\n",
        "              loss=tf.keras.losses.SparseCategoricalCrossentropy(from_logits=True),\n",
        "              metrics=['accuracy'])"
      ],
      "execution_count": null,
      "outputs": []
    },
    {
      "cell_type": "code",
      "metadata": {
        "id": "uRFLFG846UpF"
      },
      "source": [
        "history3 = model3.fit(train_ds,\n",
        "                    validation_data=(val_ds),  \n",
        "                    epochs=50\n",
        ")"
      ],
      "execution_count": null,
      "outputs": []
    },
    {
      "cell_type": "code",
      "metadata": {
        "id": "7Y34WCvzbgVH"
      },
      "source": [
        "#class_names = np.array(sorted([item.name for item in data_dir.glob('*') if item.name != \"LICENSE.txt\"]))\n",
        "\n",
        "labels = '\\n'.join(class_names)\n",
        "\n",
        "with open('labels.txt', 'w') as f:\n",
        "  f.write(labels)"
      ],
      "execution_count": null,
      "outputs": []
    },
    {
      "cell_type": "code",
      "metadata": {
        "id": "2kDaeyPybM3E"
      },
      "source": [
        "saved_model_dir = 'drive/My Drive/Soy/'\n",
        "tf.saved_model.save(model3, saved_model_dir)\n",
        "\n",
        "converter = tf.lite.TFLiteConverter.from_saved_model(saved_model_dir)\n",
        "tflite_model = converter.convert()\n",
        "\n",
        "with open('model.tflite', 'wb') as f:\n",
        "  f.write(tflite_model)"
      ],
      "execution_count": null,
      "outputs": []
    },
    {
      "cell_type": "code",
      "metadata": {
        "id": "O6DUlFRiMF5b"
      },
      "source": [
        ""
      ],
      "execution_count": null,
      "outputs": []
    },
    {
      "cell_type": "code",
      "metadata": {
        "id": "-dGwS2QJbMnL"
      },
      "source": [
        "from google.colab import files\n",
        "\n",
        "files.download('model.tflite')\n",
        "files.download('labels.txt')"
      ],
      "execution_count": null,
      "outputs": []
    },
    {
      "cell_type": "markdown",
      "metadata": {
        "id": "zpgTjAPJ6WFL"
      },
      "source": [
        "# EfficientNetB7"
      ]
    },
    {
      "cell_type": "code",
      "metadata": {
        "id": "iy6K5t1X6cMC"
      },
      "source": [
        "# load model and specify a new input shape for images and avg pooling output\n",
        "new_input = tf.keras.layers.Input(shape=(256, 256, 3))\n",
        "\n",
        "# load model without classifier layers\n",
        "model4 = tf.keras.applications.EfficientNetB7(include_top=False, input_tensor=new_input, weights='imagenet')\n",
        "model4.trainable = True\n",
        "# add new classifier layers\n",
        "flat1 = Flatten()(model4.layers[-1].output)\n",
        "class1 = Dense(128, activation='relu')(flat1)\n",
        "output = Dense(9, activation='softmax')(class1)\n",
        "# define new model\n",
        "model4 = Model(inputs=model4.inputs, outputs=output)\n",
        "# summarize\n",
        "model4.summary()"
      ],
      "execution_count": null,
      "outputs": []
    },
    {
      "cell_type": "code",
      "metadata": {
        "id": "rK96Xp5W6caj"
      },
      "source": [
        "base_learning_rate = 0.001\n",
        "model4.compile(optimizer=tf.keras.optimizers.SGD(lr=base_learning_rate),\n",
        "              loss=tf.keras.losses.SparseCategoricalCrossentropy(from_logits=True),\n",
        "              metrics=['accuracy'])"
      ],
      "execution_count": null,
      "outputs": []
    },
    {
      "cell_type": "code",
      "metadata": {
        "id": "KHu58gNn6b_q"
      },
      "source": [
        "history4 = model4.fit(train_ds,\n",
        "                    validation_data=(val_ds),  \n",
        "                    epochs=50\n",
        ")"
      ],
      "execution_count": null,
      "outputs": []
    },
    {
      "cell_type": "markdown",
      "metadata": {
        "id": "OeE8jDjKHjZt"
      },
      "source": [
        "# Meu Modelo"
      ]
    },
    {
      "cell_type": "code",
      "metadata": {
        "id": "qVXeO_-cMRFF"
      },
      "source": [
        "\n",
        "num_classes = 3\n",
        "\n",
        "model5 = tf.keras.Sequential([\n",
        "  \n",
        "  # layers.experimental.preprocessing.Rescaling(1./255),\n",
        "   \n",
        "   #_______________________ Parte Convolucional\n",
        "   tf.keras.layers.Conv2D(128, 3, activation='relu'),\n",
        "   tf.keras.layers.MaxPooling2D(),\n",
        "   tf.keras.layers.Conv2D(64, 3, activation='relu'),\n",
        "   tf.keras.layers.MaxPooling2D(),\n",
        "   tf.keras.layers.Conv2D(32, 3, activation='relu'),\n",
        "   tf.keras.layers.MaxPooling2D(),\n",
        "  #_______________________ Rede Neural\n",
        "   tf.keras.layers.Flatten(),\n",
        "   tf.keras.layers.Dense(128, activation='relu'),\n",
        "   tf.keras.layers.Dense(num_classes, activation='softmax')\n",
        " ])"
      ],
      "execution_count": null,
      "outputs": []
    },
    {
      "cell_type": "code",
      "metadata": {
        "id": "gAS3xmtK9zsJ"
      },
      "source": [
        "\n",
        "base_learning_rate = 0.001\n",
        "model5.compile(optimizer=tf.keras.optimizers.SGD(lr=base_learning_rate),\n",
        "              loss=tf.keras.losses.SparseCategoricalCrossentropy(from_logits=True),\n",
        "              metrics=['accuracy'])"
      ],
      "execution_count": null,
      "outputs": []
    },
    {
      "cell_type": "code",
      "metadata": {
        "id": "ZSlulp2tMRFI"
      },
      "source": [
        "history5 = model5.fit(train_ds,\n",
        "                    validation_data=(val_ds),  \n",
        "                    epochs=20\n",
        ")"
      ],
      "execution_count": null,
      "outputs": []
    },
    {
      "cell_type": "code",
      "metadata": {
        "id": "B1LBiw5eGKAM"
      },
      "source": [
        "model5.summary()"
      ],
      "execution_count": null,
      "outputs": []
    },
    {
      "cell_type": "code",
      "metadata": {
        "id": "5OgDwqwv74CZ"
      },
      "source": [
        "import matplotlib\n",
        "import matplotlib.pyplot as plt"
      ],
      "execution_count": null,
      "outputs": []
    },
    {
      "cell_type": "markdown",
      "metadata": {
        "id": "ao8a3Dv974hH"
      },
      "source": [
        "# Gráfico de perda (loss) de validação:"
      ]
    },
    {
      "cell_type": "code",
      "metadata": {
        "id": "1AQLZl4LEFxA"
      },
      "source": [
        "\n",
        "plt.plot(history.history['val_loss'])\n",
        "plt.plot(history2.history['val_loss'])\n",
        "plt.plot(history3.history['val_loss'])\n",
        "plt.plot(history4.history['val_loss'])\n",
        "#plt.plot(history5.history['val_loss'])\n",
        "plt.title('Validation loss')\n",
        "plt.ylabel('loss')\n",
        "plt.xlabel('epoch')\n",
        "plt.legend(['ResNet50', 'VGG19', 'DenseNet201', 'EfficientNetB7'], loc='upper right')\n",
        "plt.show()"
      ],
      "execution_count": null,
      "outputs": []
    },
    {
      "cell_type": "markdown",
      "metadata": {
        "id": "mWHvKJe08Cfm"
      },
      "source": [
        "# Gráfico de perda (loss) de treinamento:"
      ]
    },
    {
      "cell_type": "code",
      "metadata": {
        "id": "t0eb6swYMRFO"
      },
      "source": [
        "\n",
        "plt.plot(history.history['loss'])\n",
        "plt.plot(history2.history['loss'])\n",
        "plt.plot(history3.history['loss'])\n",
        "plt.plot(history4.history['loss'])\n",
        "#plt.plot(history5.history['loss'])\n",
        "plt.title('Train loss')\n",
        "plt.ylabel('loss')\n",
        "plt.xlabel('epoch')\n",
        "plt.legend(['ResNet50', 'VGG19', 'DenseNet201', 'EfficientNetB7'], loc='upper right')\n",
        "plt.show()"
      ],
      "execution_count": null,
      "outputs": []
    },
    {
      "cell_type": "markdown",
      "metadata": {
        "id": "Mdd09yzs8SbY"
      },
      "source": [
        "# Gráfico de Accuracy de validação:"
      ]
    },
    {
      "cell_type": "code",
      "metadata": {
        "id": "okfmpxaLBYZu"
      },
      "source": [
        "# ver val_ds para conferir labels\n",
        "plt.plot(history.history['val_accuracy'])\n",
        "plt.plot(history2.history['val_accuracy'])\n",
        "plt.plot(history3.history['val_accuracy'])\n",
        "plt.plot(history4.history['val_accuracy'])\n",
        "#plt.plot(history5.history['val_accuracy'])\n",
        "plt.title('Validation accuracy')\n",
        "plt.ylabel('accuracy')\n",
        "plt.xlabel('epoch')\n",
        "plt.legend(['ResNet50', 'VGG19', 'DenseNet201', 'EfficientNetB7'], loc='upper left')\n",
        "plt.show()"
      ],
      "execution_count": null,
      "outputs": []
    },
    {
      "cell_type": "markdown",
      "metadata": {
        "id": "5tYaLoXG8TZf"
      },
      "source": [
        "# Gráfico de Accuracy de treino:"
      ]
    },
    {
      "cell_type": "code",
      "metadata": {
        "id": "hUVs6LmsD6B-"
      },
      "source": [
        "# ver val_ds para conferir labels\n",
        "plt.plot(history.history['accuracy'])\n",
        "plt.plot(history2.history['accuracy'])\n",
        "plt.plot(history3.history['accuracy'])\n",
        "plt.plot(history4.history['accuracy'])\n",
        "#plt.plot(history5.history['accuracy'])\n",
        "plt.title('Train accuracy')\n",
        "plt.ylabel('accuracy')\n",
        "plt.xlabel('epoch')\n",
        "plt.legend(['ResNet50', 'VGG19', 'DenseNet201', 'EfficientNetB7'], loc='upper left')\n",
        "plt.show()"
      ],
      "execution_count": null,
      "outputs": []
    },
    {
      "cell_type": "markdown",
      "metadata": {
        "id": "LnMa98XC8zsu"
      },
      "source": [
        "# previsões do modelo para o Dataset de Validação"
      ]
    },
    {
      "cell_type": "code",
      "metadata": {
        "id": "g0OsHw6TkglY"
      },
      "source": [
        "list_val = list(val_ds)"
      ],
      "execution_count": null,
      "outputs": []
    },
    {
      "cell_type": "code",
      "metadata": {
        "id": "C6DhxQ3SFU2l"
      },
      "source": [
        "len(list_val)"
      ],
      "execution_count": null,
      "outputs": []
    },
    {
      "cell_type": "code",
      "metadata": {
        "id": "u7oobODq7LmX"
      },
      "source": [
        "y = np.concatenate([y for x, y in list_val])\n",
        "x = np.concatenate([x for x, y in list_val])"
      ],
      "execution_count": null,
      "outputs": []
    },
    {
      "cell_type": "code",
      "metadata": {
        "id": "wUGrCPQHYfeJ"
      },
      "source": [
        "x.shape"
      ],
      "execution_count": null,
      "outputs": []
    },
    {
      "cell_type": "code",
      "metadata": {
        "id": "qZ8_Lo6YTVNh"
      },
      "source": [
        "import time"
      ],
      "execution_count": null,
      "outputs": []
    },
    {
      "cell_type": "code",
      "metadata": {
        "id": "2_g4957Qk909"
      },
      "source": [
        "ti = time.time()\n",
        "\n",
        "predictions = model3.predict(x)\n",
        "y_pred = np.argmax(predictions, axis=1)\n",
        "\n",
        "tf = time.time()\n",
        "elapsed = tf-ti "
      ],
      "execution_count": null,
      "outputs": []
    },
    {
      "cell_type": "code",
      "metadata": {
        "id": "Lu8YFodaTV47"
      },
      "source": [
        "elapsed/1131"
      ],
      "execution_count": null,
      "outputs": []
    },
    {
      "cell_type": "code",
      "metadata": {
        "id": "xoj3t9IUY8qh"
      },
      "source": [
        "predictions.shape"
      ],
      "execution_count": null,
      "outputs": []
    },
    {
      "cell_type": "code",
      "metadata": {
        "id": "cnyl8n4Esx_c"
      },
      "source": [
        "y_pred = np.argmax(predictions, axis=1)"
      ],
      "execution_count": null,
      "outputs": []
    },
    {
      "cell_type": "code",
      "metadata": {
        "id": "WNpsHlmmE4XG"
      },
      "source": [
        "y_pred"
      ],
      "execution_count": null,
      "outputs": []
    },
    {
      "cell_type": "code",
      "metadata": {
        "id": "RLVJ6B88D_da"
      },
      "source": [
        "from sklearn.metrics import confusion_matrix\n",
        "\n",
        "CM = confusion_matrix(y, y_pred)\n",
        "print(CM)\n",
        "print('\\nTest Accuracy: ' + str(np.sum(np.diag(CM)) / np.sum(CM)))"
      ],
      "execution_count": null,
      "outputs": []
    },
    {
      "cell_type": "code",
      "metadata": {
        "id": "0qWzKx_7MRFY"
      },
      "source": [
        ""
      ],
      "execution_count": null,
      "outputs": []
    },
    {
      "cell_type": "markdown",
      "metadata": {
        "id": "1_y2bF1u9VMx"
      },
      "source": [
        "# Colocar a Matriz de forma gráfica:"
      ]
    },
    {
      "cell_type": "code",
      "metadata": {
        "id": "10bkBZPenQDr"
      },
      "source": [
        "import seaborn\n",
        "import matplotlib\n",
        "import matplotlib.pyplot as plt\n",
        "\n",
        "fig_dims = (15, 10)\n",
        "fig, ax = plt.subplots(figsize=fig_dims)\n",
        "\n",
        "seaborn.heatmap(CM, annot=True, ax=ax,fmt=\"d\", xticklabels=class_names, yticklabels=class_names, cmap=\"YlGnBu\")\n",
        "plt.show()"
      ],
      "execution_count": null,
      "outputs": []
    },
    {
      "cell_type": "code",
      "metadata": {
        "id": "bLRzvPXIQtk3"
      },
      "source": [
        ""
      ],
      "execution_count": null,
      "outputs": []
    }
  ]
}